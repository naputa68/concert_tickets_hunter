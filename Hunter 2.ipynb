{
 "cells": [
  {
   "cell_type": "code",
   "execution_count": null,
   "metadata": {},
   "outputs": [],
   "source": [
    "from selenium import webdriver\n",
    "from selenium.webdriver.common.keys import Keys\n",
    "from bs4 import BeautifulSoup as bs\n",
    "import time\n",
    "import pandas as pd\n",
    "\n",
    "#open the cityline URL\n",
    "\n",
    "driver = webdriver.Chrome()\n",
    "driver.get('https://www.cityline.com/Login.do?targetUrl=https%3A%2F%2Fwww.cityline.com%2FEvents.do')\n",
    "\n",
    "#input login and password\n",
    "\n",
    "driver.find_element_by_name('username').send_keys('steve.mc.wong@gmail.com')\n",
    "driver.find_element_by_name('password').send_keys('Q1w2e3r4')\n",
    "driver.find_element_by_name('submit').click()    \n",
    "\n",
    "driver.find_element_by_xpath('/html/body/div[15]/div/div/a').click()\n",
    "driver.find_element_by_xpath('//*[@id=\"navbar-collapse-3\"]/div/ul/li[3]/a/b').click()\n",
    "driver.find_element_by_xpath('//*[@id=\"category15\"]/a').click()\n",
    "driver.find_element_by_xpath('/html/body/div[7]/div/div[2]/div/div[3]/div/a').click()\n",
    "\n",
    "#Search for the event\n",
    "\n",
    "\n",
    "#driver.find_element_by_css_selector('#eventColumn4941 > div > div.content > div > a').click()"
   ]
  },
  {
   "cell_type": "code",
   "execution_count": null,
   "metadata": {},
   "outputs": [],
   "source": [
    "driver.find_element_by_xpath('//*[@id=\"searchName\"]').send_keys(Keys.CONTROL + \"a\");\n",
    "driver.find_element_by_xpath('//*[@id=\"searchName\"]').send_keys(Keys.DELETE);\n",
    "driver.find_element_by_xpath('//*[@id=\"searchName\"]').send_keys('AliAliVe2020 Around the World -Re:AliVe-')\n",
    "\n"
   ]
  },
  {
   "cell_type": "code",
   "execution_count": null,
   "metadata": {},
   "outputs": [],
   "source": [
    "driver.find_element_by_css_selector('#submit_search').click()"
   ]
  },
  {
   "cell_type": "code",
   "execution_count": null,
   "metadata": {},
   "outputs": [],
   "source": []
  },
  {
   "cell_type": "code",
   "execution_count": null,
   "metadata": {},
   "outputs": [],
   "source": []
  }
 ],
 "metadata": {
  "kernelspec": {
   "display_name": "Python 3",
   "language": "python",
   "name": "python3"
  },
  "language_info": {
   "codemirror_mode": {
    "name": "ipython",
    "version": 3
   },
   "file_extension": ".py",
   "mimetype": "text/x-python",
   "name": "python",
   "nbconvert_exporter": "python",
   "pygments_lexer": "ipython3",
   "version": "3.7.4"
  }
 },
 "nbformat": 4,
 "nbformat_minor": 2
}
